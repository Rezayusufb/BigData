{
 "cells": [
  {
   "cell_type": "markdown",
   "metadata": {},
   "source": [
    "# Final Project Reza Yusuf Bahtiar\n",
    "## Data Diabetes"
   ]
  },
  {
   "cell_type": "code",
   "execution_count": 1,
   "metadata": {},
   "outputs": [],
   "source": [
    "import numpy as np\n",
    "import pandas as pd\n",
    "import matplotlib.pyplot as plt"
   ]
  },
  {
   "cell_type": "code",
   "execution_count": 2,
   "metadata": {},
   "outputs": [],
   "source": [
    "df = pd.read_csv(\"https://dtsreza.s3.amazonaws.com/diabetes.csv\")"
   ]
  },
  {
   "cell_type": "code",
   "execution_count": 3,
   "metadata": {
    "scrolled": true
   },
   "outputs": [
    {
     "data": {
      "text/html": [
       "<div>\n",
       "<style scoped>\n",
       "    .dataframe tbody tr th:only-of-type {\n",
       "        vertical-align: middle;\n",
       "    }\n",
       "\n",
       "    .dataframe tbody tr th {\n",
       "        vertical-align: top;\n",
       "    }\n",
       "\n",
       "    .dataframe thead th {\n",
       "        text-align: right;\n",
       "    }\n",
       "</style>\n",
       "<table border=\"1\" class=\"dataframe\">\n",
       "  <thead>\n",
       "    <tr style=\"text-align: right;\">\n",
       "      <th></th>\n",
       "      <th>Pregnancies</th>\n",
       "      <th>Glucose</th>\n",
       "      <th>BloodPressure</th>\n",
       "      <th>SkinThickness</th>\n",
       "      <th>Insulin</th>\n",
       "      <th>BMI</th>\n",
       "      <th>DiabetesPedigreeFunction</th>\n",
       "      <th>Age</th>\n",
       "      <th>Outcome</th>\n",
       "    </tr>\n",
       "  </thead>\n",
       "  <tbody>\n",
       "    <tr>\n",
       "      <th>0</th>\n",
       "      <td>6</td>\n",
       "      <td>148</td>\n",
       "      <td>72</td>\n",
       "      <td>35</td>\n",
       "      <td>0</td>\n",
       "      <td>33.6</td>\n",
       "      <td>0.627</td>\n",
       "      <td>50</td>\n",
       "      <td>1</td>\n",
       "    </tr>\n",
       "    <tr>\n",
       "      <th>1</th>\n",
       "      <td>1</td>\n",
       "      <td>85</td>\n",
       "      <td>66</td>\n",
       "      <td>29</td>\n",
       "      <td>0</td>\n",
       "      <td>26.6</td>\n",
       "      <td>0.351</td>\n",
       "      <td>31</td>\n",
       "      <td>0</td>\n",
       "    </tr>\n",
       "    <tr>\n",
       "      <th>2</th>\n",
       "      <td>8</td>\n",
       "      <td>183</td>\n",
       "      <td>64</td>\n",
       "      <td>0</td>\n",
       "      <td>0</td>\n",
       "      <td>23.3</td>\n",
       "      <td>0.672</td>\n",
       "      <td>32</td>\n",
       "      <td>1</td>\n",
       "    </tr>\n",
       "    <tr>\n",
       "      <th>3</th>\n",
       "      <td>1</td>\n",
       "      <td>89</td>\n",
       "      <td>66</td>\n",
       "      <td>23</td>\n",
       "      <td>94</td>\n",
       "      <td>28.1</td>\n",
       "      <td>0.167</td>\n",
       "      <td>21</td>\n",
       "      <td>0</td>\n",
       "    </tr>\n",
       "    <tr>\n",
       "      <th>4</th>\n",
       "      <td>0</td>\n",
       "      <td>137</td>\n",
       "      <td>40</td>\n",
       "      <td>35</td>\n",
       "      <td>168</td>\n",
       "      <td>43.1</td>\n",
       "      <td>2.288</td>\n",
       "      <td>33</td>\n",
       "      <td>1</td>\n",
       "    </tr>\n",
       "  </tbody>\n",
       "</table>\n",
       "</div>"
      ],
      "text/plain": [
       "   Pregnancies  Glucose  BloodPressure  SkinThickness  Insulin   BMI  \\\n",
       "0            6      148             72             35        0  33.6   \n",
       "1            1       85             66             29        0  26.6   \n",
       "2            8      183             64              0        0  23.3   \n",
       "3            1       89             66             23       94  28.1   \n",
       "4            0      137             40             35      168  43.1   \n",
       "\n",
       "   DiabetesPedigreeFunction  Age  Outcome  \n",
       "0                     0.627   50        1  \n",
       "1                     0.351   31        0  \n",
       "2                     0.672   32        1  \n",
       "3                     0.167   21        0  \n",
       "4                     2.288   33        1  "
      ]
     },
     "execution_count": 3,
     "metadata": {},
     "output_type": "execute_result"
    }
   ],
   "source": [
    "df.head()"
   ]
  },
  {
   "cell_type": "markdown",
   "metadata": {},
   "source": [
    "* Data yang digunakan adalah data diabetes, jika seseorang tersebut tidak terkena diabetes maka nilainya 0\n",
    "* Jika orang tersebut terkena diabetes maka nilainya 1\n"
   ]
  },
  {
   "cell_type": "code",
   "execution_count": 4,
   "metadata": {},
   "outputs": [
    {
     "data": {
      "text/plain": [
       "0    500\n",
       "1    268\n",
       "Name: Outcome, dtype: int64"
      ]
     },
     "execution_count": 4,
     "metadata": {},
     "output_type": "execute_result"
    }
   ],
   "source": [
    "df.Outcome.value_counts()"
   ]
  },
  {
   "cell_type": "code",
   "execution_count": 5,
   "metadata": {},
   "outputs": [],
   "source": [
    "import seaborn as sns"
   ]
  },
  {
   "cell_type": "code",
   "execution_count": 6,
   "metadata": {},
   "outputs": [
    {
     "data": {
      "image/png": "[encoded data removed]",
      "text/plain": [
       "<Figure size 432x288 with 1 Axes>"
      ]
     },
     "metadata": {
      "needs_background": "light"
     },
     "output_type": "display_data"
    }
   ],
   "source": [
    "sns.countplot(x=\"Outcome\", data=df, palette=\"bwr\")\n",
    "plt.show()"
   ]
  },
  {
   "cell_type": "code",
   "execution_count": 7,
   "metadata": {},
   "outputs": [
    {
     "name": "stdout",
     "output_type": "stream",
     "text": [
      "Percentage of Patients Havent Diabetes: 65.10%\n",
      "Percentage of Patients Have Diabetes: 34.90%\n"
     ]
    }
   ],
   "source": [
    "countNoDiabetes = len(df[df.Outcome == 0])\n",
    "countHaveDiabetes = len(df[df.Outcome == 1])\n",
    "print(\"Percentage of Patients Havent Diabetes: {:.2f}%\".format((countNoDiabetes / (len(df.Outcome))*100)))\n",
    "print(\"Percentage of Patients Have Diabetes: {:.2f}%\".format((countHaveDiabetes / (len(df.Outcome))*100)))"
   ]
  },
  {
   "cell_type": "code",
   "execution_count": 8,
   "metadata": {},
   "outputs": [
    {
     "data": {
      "text/html": [
       "<div>\n",
       "<style scoped>\n",
       "    .dataframe tbody tr th:only-of-type {\n",
       "        vertical-align: middle;\n",
       "    }\n",
       "\n",
       "    .dataframe tbody tr th {\n",
       "        vertical-align: top;\n",
       "    }\n",
       "\n",
       "    .dataframe thead th {\n",
       "        text-align: right;\n",
       "    }\n",
       "</style>\n",
       "<table border=\"1\" class=\"dataframe\">\n",
       "  <thead>\n",
       "    <tr style=\"text-align: right;\">\n",
       "      <th></th>\n",
       "      <th>Pregnancies</th>\n",
       "      <th>Glucose</th>\n",
       "      <th>BloodPressure</th>\n",
       "      <th>SkinThickness</th>\n",
       "      <th>Insulin</th>\n",
       "      <th>BMI</th>\n",
       "      <th>DiabetesPedigreeFunction</th>\n",
       "      <th>Age</th>\n",
       "    </tr>\n",
       "    <tr>\n",
       "      <th>Outcome</th>\n",
       "      <th></th>\n",
       "      <th></th>\n",
       "      <th></th>\n",
       "      <th></th>\n",
       "      <th></th>\n",
       "      <th></th>\n",
       "      <th></th>\n",
       "      <th></th>\n",
       "    </tr>\n",
       "  </thead>\n",
       "  <tbody>\n",
       "    <tr>\n",
       "      <th>0</th>\n",
       "      <td>3.298000</td>\n",
       "      <td>109.980000</td>\n",
       "      <td>68.184000</td>\n",
       "      <td>19.664000</td>\n",
       "      <td>68.792000</td>\n",
       "      <td>30.304200</td>\n",
       "      <td>0.429734</td>\n",
       "      <td>31.190000</td>\n",
       "    </tr>\n",
       "    <tr>\n",
       "      <th>1</th>\n",
       "      <td>4.865672</td>\n",
       "      <td>141.257463</td>\n",
       "      <td>70.824627</td>\n",
       "      <td>22.164179</td>\n",
       "      <td>100.335821</td>\n",
       "      <td>35.142537</td>\n",
       "      <td>0.550500</td>\n",
       "      <td>37.067164</td>\n",
       "    </tr>\n",
       "  </tbody>\n",
       "</table>\n",
       "</div>"
      ],
      "text/plain": [
       "         Pregnancies     Glucose  BloodPressure  SkinThickness     Insulin  \\\n",
       "Outcome                                                                      \n",
       "0           3.298000  109.980000      68.184000      19.664000   68.792000   \n",
       "1           4.865672  141.257463      70.824627      22.164179  100.335821   \n",
       "\n",
       "               BMI  DiabetesPedigreeFunction        Age  \n",
       "Outcome                                                  \n",
       "0        30.304200                  0.429734  31.190000  \n",
       "1        35.142537                  0.550500  37.067164  "
      ]
     },
     "execution_count": 8,
     "metadata": {},
     "output_type": "execute_result"
    }
   ],
   "source": [
    "df.groupby('Outcome').mean()"
   ]
  },
  {
   "cell_type": "code",
   "execution_count": 9,
   "metadata": {},
   "outputs": [
    {
     "data": {
      "image/png": "[encoded data removed]",
      "text/plain": [
       "<Figure size 1440x432 with 1 Axes>"
      ]
     },
     "metadata": {
      "needs_background": "light"
     },
     "output_type": "display_data"
    }
   ],
   "source": [
    "pd.crosstab(df.Pregnancies,df.Outcome).plot(kind=\"bar\",figsize=(20,6))\n",
    "plt.title('Diabetes Frequency for pregnancies')\n",
    "plt.xlabel('Pregnancies')\n",
    "plt.ylabel('Frequency')\n",
    "plt.savefig('Diabetesfrequencybypregnancies.png')\n",
    "plt.show()"
   ]
  },
  {
   "cell_type": "markdown",
   "metadata": {},
   "source": [
    "* Tampilan histogram dari data x = pregnancies.\n",
    "* Warna biru menunjukkan bahwa tidak terkena diabetes\n",
    "* Warna orange menunjukkan terkena diabetes"
   ]
  },
  {
   "cell_type": "code",
   "execution_count": 10,
   "metadata": {},
   "outputs": [
    {
     "data": {
      "image/png": "[encoded data removed]",
      "text/plain": [
       "<Figure size 1440x432 with 1 Axes>"
      ]
     },
     "metadata": {
      "needs_background": "light"
     },
     "output_type": "display_data"
    }
   ],
   "source": [
    "pd.crosstab(df.Age,df.Outcome).plot(kind=\"bar\",figsize=(20,6))\n",
    "plt.title('Diabetes Frequency for Age')\n",
    "plt.xlabel('Age')\n",
    "plt.ylabel('Frequency')\n",
    "plt.savefig('DiabetesfrequencybyAge.png')\n",
    "plt.show()"
   ]
  },
  {
   "cell_type": "markdown",
   "metadata": {},
   "source": [
    "* Histogram dengan melihat umur\n",
    "* Orang terkena diabetes paling banyak pada umur 41 tahun dengan frekuensi 10 orang"
   ]
  },
  {
   "cell_type": "code",
   "execution_count": 11,
   "metadata": {},
   "outputs": [
    {
     "data": {
      "image/png": "[encoded data removed]",
      "text/plain": [
       "<Figure size 432x288 with 1 Axes>"
      ]
     },
     "metadata": {
      "needs_background": "light"
     },
     "output_type": "display_data"
    }
   ],
   "source": [
    "plt.scatter(x=df.Age[df.Outcome==1], y=df.Glucose[(df.Outcome==1)], c=\"red\")\n",
    "plt.scatter(x=df.Age[df.Outcome==0], y=df.Glucose[(df.Outcome==0)])\n",
    "plt.legend([\"Diabetes\", \"Not Diabetes\"])\n",
    "plt.xlabel(\"Age\")\n",
    "plt.ylabel(\"Max Diabetes Rate\")\n",
    "plt.show()"
   ]
  },
  {
   "cell_type": "markdown",
   "metadata": {},
   "source": [
    "* Sebaran data dari orang yang terkena diabetes dengan melihat dari usia, penyebaran data cukup merata dengan melihat orang yang terkena diabetes lebih sedikit daripada yang tidak terkena diabetes.\n",
    "* Usia paling rawan terkena diabetes adalah 40 - 50 tahun\n"
   ]
  },
  {
   "cell_type": "code",
   "execution_count": 12,
   "metadata": {},
   "outputs": [
    {
     "data": {
      "image/png": "[encoded data removed]",
      "text/plain": [
       "<Figure size 432x288 with 1 Axes>"
      ]
     },
     "metadata": {
      "needs_background": "light"
     },
     "output_type": "display_data"
    }
   ],
   "source": [
    "plt.scatter(x=df.Age[df.Outcome==1], y=df.BloodPressure[(df.Outcome==1)], c=\"red\")\n",
    "plt.scatter(x=df.Age[df.Outcome==0], y=df.BloodPressure[(df.Outcome==0)])\n",
    "plt.legend([\"Diabetes\", \"Not Diabetes\"])\n",
    "plt.xlabel(\"Age\")\n",
    "plt.ylabel(\"Max Diabetes Rate\")\n",
    "plt.show()"
   ]
  },
  {
   "cell_type": "markdown",
   "metadata": {},
   "source": [
    "* Orang yang terkena diabetes dan memiliki tekanan darah tidak terlalu banyak, karena dari gambar lebih dominan yang tidak terkena yaitu warna biru\n",
    "* Tekanan darah dari orang yang terkena diabetes paling banyak antara 80 - 100 dan pada usia 50 - 60 tahun\n"
   ]
  },
  {
   "cell_type": "code",
   "execution_count": 13,
   "metadata": {},
   "outputs": [
    {
     "data": {
      "text/html": [
       "<div>\n",
       "<style scoped>\n",
       "    .dataframe tbody tr th:only-of-type {\n",
       "        vertical-align: middle;\n",
       "    }\n",
       "\n",
       "    .dataframe tbody tr th {\n",
       "        vertical-align: top;\n",
       "    }\n",
       "\n",
       "    .dataframe thead th {\n",
       "        text-align: right;\n",
       "    }\n",
       "</style>\n",
       "<table border=\"1\" class=\"dataframe\">\n",
       "  <thead>\n",
       "    <tr style=\"text-align: right;\">\n",
       "      <th></th>\n",
       "      <th>Pregnancies</th>\n",
       "      <th>Glucose</th>\n",
       "      <th>BloodPressure</th>\n",
       "      <th>SkinThickness</th>\n",
       "      <th>Insulin</th>\n",
       "      <th>BMI</th>\n",
       "      <th>DiabetesPedigreeFunction</th>\n",
       "      <th>Age</th>\n",
       "      <th>Outcome</th>\n",
       "    </tr>\n",
       "  </thead>\n",
       "  <tbody>\n",
       "    <tr>\n",
       "      <th>count</th>\n",
       "      <td>768.000000</td>\n",
       "      <td>768.000000</td>\n",
       "      <td>768.000000</td>\n",
       "      <td>768.000000</td>\n",
       "      <td>768.000000</td>\n",
       "      <td>768.000000</td>\n",
       "      <td>768.000000</td>\n",
       "      <td>768.000000</td>\n",
       "      <td>768.000000</td>\n",
       "    </tr>\n",
       "    <tr>\n",
       "      <th>mean</th>\n",
       "      <td>3.845052</td>\n",
       "      <td>120.894531</td>\n",
       "      <td>69.105469</td>\n",
       "      <td>20.536458</td>\n",
       "      <td>79.799479</td>\n",
       "      <td>31.992578</td>\n",
       "      <td>0.471876</td>\n",
       "      <td>33.240885</td>\n",
       "      <td>0.348958</td>\n",
       "    </tr>\n",
       "    <tr>\n",
       "      <th>std</th>\n",
       "      <td>3.369578</td>\n",
       "      <td>31.972618</td>\n",
       "      <td>19.355807</td>\n",
       "      <td>15.952218</td>\n",
       "      <td>115.244002</td>\n",
       "      <td>7.884160</td>\n",
       "      <td>0.331329</td>\n",
       "      <td>11.760232</td>\n",
       "      <td>0.476951</td>\n",
       "    </tr>\n",
       "    <tr>\n",
       "      <th>min</th>\n",
       "      <td>0.000000</td>\n",
       "      <td>0.000000</td>\n",
       "      <td>0.000000</td>\n",
       "      <td>0.000000</td>\n",
       "      <td>0.000000</td>\n",
       "      <td>0.000000</td>\n",
       "      <td>0.078000</td>\n",
       "      <td>21.000000</td>\n",
       "      <td>0.000000</td>\n",
       "    </tr>\n",
       "    <tr>\n",
       "      <th>25%</th>\n",
       "      <td>1.000000</td>\n",
       "      <td>99.000000</td>\n",
       "      <td>62.000000</td>\n",
       "      <td>0.000000</td>\n",
       "      <td>0.000000</td>\n",
       "      <td>27.300000</td>\n",
       "      <td>0.243750</td>\n",
       "      <td>24.000000</td>\n",
       "      <td>0.000000</td>\n",
       "    </tr>\n",
       "    <tr>\n",
       "      <th>50%</th>\n",
       "      <td>3.000000</td>\n",
       "      <td>117.000000</td>\n",
       "      <td>72.000000</td>\n",
       "      <td>23.000000</td>\n",
       "      <td>30.500000</td>\n",
       "      <td>32.000000</td>\n",
       "      <td>0.372500</td>\n",
       "      <td>29.000000</td>\n",
       "      <td>0.000000</td>\n",
       "    </tr>\n",
       "    <tr>\n",
       "      <th>75%</th>\n",
       "      <td>6.000000</td>\n",
       "      <td>140.250000</td>\n",
       "      <td>80.000000</td>\n",
       "      <td>32.000000</td>\n",
       "      <td>127.250000</td>\n",
       "      <td>36.600000</td>\n",
       "      <td>0.626250</td>\n",
       "      <td>41.000000</td>\n",
       "      <td>1.000000</td>\n",
       "    </tr>\n",
       "    <tr>\n",
       "      <th>max</th>\n",
       "      <td>17.000000</td>\n",
       "      <td>199.000000</td>\n",
       "      <td>122.000000</td>\n",
       "      <td>99.000000</td>\n",
       "      <td>846.000000</td>\n",
       "      <td>67.100000</td>\n",
       "      <td>2.420000</td>\n",
       "      <td>81.000000</td>\n",
       "      <td>1.000000</td>\n",
       "    </tr>\n",
       "  </tbody>\n",
       "</table>\n",
       "</div>"
      ],
      "text/plain": [
       "       Pregnancies     Glucose  BloodPressure  SkinThickness     Insulin  \\\n",
       "count   768.000000  768.000000     768.000000     768.000000  768.000000   \n",
       "mean      3.845052  120.894531      69.105469      20.536458   79.799479   \n",
       "std       3.369578   31.972618      19.355807      15.952218  115.244002   \n",
       "min       0.000000    0.000000       0.000000       0.000000    0.000000   \n",
       "25%       1.000000   99.000000      62.000000       0.000000    0.000000   \n",
       "50%       3.000000  117.000000      72.000000      23.000000   30.500000   \n",
       "75%       6.000000  140.250000      80.000000      32.000000  127.250000   \n",
       "max      17.000000  199.000000     122.000000      99.000000  846.000000   \n",
       "\n",
       "              BMI  DiabetesPedigreeFunction         Age     Outcome  \n",
       "count  768.000000                768.000000  768.000000  768.000000  \n",
       "mean    31.992578                  0.471876   33.240885    0.348958  \n",
       "std      7.884160                  0.331329   11.760232    0.476951  \n",
       "min      0.000000                  0.078000   21.000000    0.000000  \n",
       "25%     27.300000                  0.243750   24.000000    0.000000  \n",
       "50%     32.000000                  0.372500   29.000000    0.000000  \n",
       "75%     36.600000                  0.626250   41.000000    1.000000  \n",
       "max     67.100000                  2.420000   81.000000    1.000000  "
      ]
     },
     "execution_count": 13,
     "metadata": {},
     "output_type": "execute_result"
    }
   ],
   "source": [
    "df.describe()"
   ]
  },
  {
   "cell_type": "markdown",
   "metadata": {},
   "source": [
    "* Dari analisis deskriptif diatas bisa dilihat masing - masing variabel independen memiliki nilai\n",
    "* Untuk nilai maksimal dari pregnancies adalah 17\n",
    "* Untuk nilai maksimal dari Glucose adalah 199\n",
    "* Dan jumlah data yang ada sebanyak 768"
   ]
  },
  {
   "cell_type": "code",
   "execution_count": 14,
   "metadata": {},
   "outputs": [],
   "source": [
    "y = df.Outcome.values\n",
    "x_data = df.drop(['Outcome'], axis = 1)"
   ]
  },
  {
   "cell_type": "code",
   "execution_count": 15,
   "metadata": {},
   "outputs": [],
   "source": [
    "from sklearn.linear_model import LogisticRegression\n",
    "from sklearn.model_selection import train_test_split\n"
   ]
  },
  {
   "cell_type": "markdown",
   "metadata": {},
   "source": [
    "### Normalize Data\n",
    "<br>\n",
    "<br>\n",
    "<img src=\"https://1.bp.blogspot.com/-n06ZvyeI2HM/WrMW4KervoI/AAAAAAAAC7k/rktq848B-3IZdYrQzsEVaQe3agq1GzruwCLcBGAs/s640/min%2Bmax.jpg\" width=\"400px\"/>"
   ]
  },
  {
   "cell_type": "code",
   "execution_count": 16,
   "metadata": {},
   "outputs": [],
   "source": [
    "# Normalize\n",
    "x = (x_data - np.min(x_data)) / (np.max(x_data) - np.min(x_data)).values"
   ]
  },
  {
   "cell_type": "code",
   "execution_count": 17,
   "metadata": {},
   "outputs": [],
   "source": [
    "x_train, x_test, y_train, y_test = train_test_split(x,y,test_size = 0.2,random_state=0)"
   ]
  },
  {
   "cell_type": "code",
   "execution_count": 18,
   "metadata": {},
   "outputs": [],
   "source": [
    "#transpose matrices\n",
    "x_train = x_train.T\n",
    "y_train = y_train.T\n",
    "x_test = x_test.T\n",
    "y_test = y_test.T"
   ]
  },
  {
   "cell_type": "markdown",
   "metadata": {},
   "source": [
    "* Normalisasi data ditunjukkan untuk meminimalisir hasil analisis yang tidak relevan atau tidak valid. Sehingga normalisasi data sangat diperlukan dalam analisis regresi"
   ]
  },
  {
   "cell_type": "code",
   "execution_count": 19,
   "metadata": {},
   "outputs": [],
   "source": [
    "#initialize\n",
    "def initialize(dimension):\n",
    "    \n",
    "    weight = np.full((dimension,1),0.01)\n",
    "    bias = 0.0\n",
    "    return weight,bias"
   ]
  },
  {
   "cell_type": "code",
   "execution_count": 20,
   "metadata": {},
   "outputs": [],
   "source": [
    "def sigmoid(z):\n",
    "    \n",
    "    y_head = 1/(1+ np.exp(-z))\n",
    "    return y_head"
   ]
  },
  {
   "cell_type": "markdown",
   "metadata": {},
   "source": [
    "* Karena variabel dependen ini bersifat kategori ( diabetes dan Non diabetes) \n",
    "* Scatter plot yang di dapatkan tidak menunjukan sebaran data yang mengumpul dan mendekati garis\n"
   ]
  },
  {
   "cell_type": "markdown",
   "metadata": {},
   "source": [
    "### Forward and Backward \n",
    "<br>\n",
    "<img src=\"http://umardanny.com/wp-content/uploads/2014/03/depthfirstsearch.jpg\" width=\"500px\"/>"
   ]
  },
  {
   "cell_type": "code",
   "execution_count": 21,
   "metadata": {},
   "outputs": [],
   "source": [
    "def forwardBackward(weight,bias,x_train,y_train):\n",
    "    # Forward\n",
    "    \n",
    "    y_head = sigmoid(np.dot(weight.T,x_train) + bias)\n",
    "    loss = -(y_train*np.log(y_head) + (1-y_train)*np.log(1-y_head))\n",
    "    cost = np.sum(loss) / x_train.shape[1]\n",
    "    \n",
    "    # Backward\n",
    "    derivative_weight = np.dot(x_train,((y_head-y_train).T))/x_train.shape[1]\n",
    "    derivative_bias = np.sum(y_head-y_train)/x_train.shape[1]\n",
    "    gradients = {\"Derivative Weight\" : derivative_weight, \"Derivative Bias\" : derivative_bias}\n",
    "    \n",
    "    return cost,gradients"
   ]
  },
  {
   "cell_type": "markdown",
   "metadata": {},
   "source": [
    "* Metode backward dan forward digunakan untuk melihat fakta - fakta yang sama dari masing - masing variabel terdekat.\n",
    "* Metode backward dan forward ini dipengaruhi oleh tiga macam teknik penelusuran yaitu : Deep -First Search, Breadth firsh search, Best first search\n"
   ]
  },
  {
   "cell_type": "markdown",
   "metadata": {},
   "source": [
    "### Cost Function\n",
    "<br>\n",
    "<img src=\"https://i.stack.imgur.com/XbU4S.png\" width=\"500px\"/>"
   ]
  },
  {
   "cell_type": "markdown",
   "metadata": {},
   "source": [
    "### Gradient Descent\n",
    "<br>\n",
    "<img src=\"https://i.stack.imgur.com/pYVzl.png\" width=\"500px\"/>"
   ]
  },
  {
   "cell_type": "code",
   "execution_count": 22,
   "metadata": {},
   "outputs": [],
   "source": [
    "def update(weight,bias,x_train,y_train,learningRate,iteration) :\n",
    "    costList = []\n",
    "    index = []\n",
    "    \n",
    "    #for each iteration, update weight and bias values\n",
    "    for i in range(iteration):\n",
    "        cost,gradients = forwardBackward(weight,bias,x_train,y_train)\n",
    "        weight = weight - learningRate * gradients[\"Derivative Weight\"]\n",
    "        bias = bias - learningRate * gradients[\"Derivative Bias\"]\n",
    "        \n",
    "        costList.append(cost)\n",
    "        index.append(i)\n",
    "\n",
    "    parameters = {\"weight\": weight,\"bias\": bias}\n",
    "    \n",
    "    print(\"iteration:\",iteration)\n",
    "    print(\"cost:\",cost)\n",
    "\n",
    "    plt.plot(index,costList)\n",
    "    plt.xlabel(\"Number of Iteration\")\n",
    "    plt.ylabel(\"Cost\")\n",
    "    plt.show()\n",
    "\n",
    "    return parameters, gradients"
   ]
  },
  {
   "cell_type": "markdown",
   "metadata": {},
   "source": [
    "* Metode ini bekerja dengan memulai dari sebuah tebakan awal (boleh acak) dan secara iteratif tebakan ini diperbaiki berdasarkan suatu aturan yang melibatkan gradien/turunan pertama dari fungsi yang ingin diminimumkan."
   ]
  },
  {
   "cell_type": "code",
   "execution_count": 23,
   "metadata": {},
   "outputs": [],
   "source": [
    "def predict(weight,bias,x_test):\n",
    "    z = np.dot(weight.T,x_test) + bias\n",
    "    y_head = sigmoid(z)\n",
    "\n",
    "    y_prediction = np.zeros((1,x_test.shape[1]))\n",
    "    \n",
    "    for i in range(y_head.shape[1]):\n",
    "        if y_head[0,i] <= 0.5:\n",
    "            y_prediction[0,i] = 0\n",
    "        else:\n",
    "            y_prediction[0,i] = 1\n",
    "    return y_prediction"
   ]
  },
  {
   "cell_type": "markdown",
   "metadata": {},
   "source": [
    "* Karena untuk mengalisa data dengan nilai y lebih dari 1 maka menggunakan metode regresi logistik dan salah satu syaratnya adalah data harus normal."
   ]
  },
  {
   "cell_type": "code",
   "execution_count": 24,
   "metadata": {},
   "outputs": [],
   "source": [
    "def logistic_regression(x_train,y_train,x_test,y_test,learningRate,iteration):\n",
    "    dimension = x_train.shape[0]\n",
    "    weight,bias = initialize(dimension)\n",
    "    \n",
    "    parameters, gradients = update(weight,bias,x_train,y_train,learningRate,iteration)\n",
    "\n",
    "    y_prediction = predict(parameters[\"weight\"],parameters[\"bias\"],x_test)\n",
    "    \n",
    "    print(\"Manuel Test Accuracy: {:.2f}%\".format((100 - np.mean(np.abs(y_prediction - y_test))*100)))"
   ]
  },
  {
   "cell_type": "markdown",
   "metadata": {},
   "source": [
    "* Regresi logistik adalah salah satu regresi non linear karena tidak membutuhkan asumsi - asumsi dari regresi. \n",
    "* diatas adalah bentuk dari persamaan regresi logistik"
   ]
  },
  {
   "cell_type": "code",
   "execution_count": 25,
   "metadata": {},
   "outputs": [
    {
     "name": "stdout",
     "output_type": "stream",
     "text": [
      "iteration: 100\n",
      "cost: 0.567352562819793\n"
     ]
    },
    {
     "data": {
      "image/png": "[encoded data removed]",
      "text/plain": [
       "<Figure size 432x288 with 1 Axes>"
      ]
     },
     "metadata": {
      "needs_background": "light"
     },
     "output_type": "display_data"
    },
    {
     "name": "stdout",
     "output_type": "stream",
     "text": [
      "Manuel Test Accuracy: 76.62%\n"
     ]
    }
   ],
   "source": [
    "logistic_regression(x_train,y_train,x_test,y_test,1,100)"
   ]
  },
  {
   "cell_type": "code",
   "execution_count": 26,
   "metadata": {},
   "outputs": [
    {
     "name": "stdout",
     "output_type": "stream",
     "text": [
      "Test Accuracy 80.52%\n"
     ]
    },
    {
     "name": "stderr",
     "output_type": "stream",
     "text": [
      "C:\\ProgramData\\Anaconda3\\lib\\site-packages\\sklearn\\linear_model\\logistic.py:433: FutureWarning: Default solver will be changed to 'lbfgs' in 0.22. Specify a solver to silence this warning.\n",
      "  FutureWarning)\n"
     ]
    }
   ],
   "source": [
    "accuracies = {}\n",
    "\n",
    "lr = LogisticRegression()\n",
    "lr.fit(x_train.T,y_train.T)\n",
    "acc = lr.score(x_test.T,y_test.T)*100\n",
    "\n",
    "accuracies['Logistic Regression'] = acc\n",
    "print(\"Test Accuracy {:.2f}%\".format(acc))"
   ]
  },
  {
   "cell_type": "markdown",
   "metadata": {},
   "source": [
    "* Akurasi dari model yang di dapat mendapatkan nilai dari 80.52% "
   ]
  },
  {
   "cell_type": "markdown",
   "metadata": {},
   "source": [
    "**KNN Algorithm**\n",
    "<br>\n",
    "<img src=\"https://www.python-course.eu/images/k_NN.png\"/>"
   ]
  },
  {
   "cell_type": "code",
   "execution_count": 27,
   "metadata": {},
   "outputs": [
    {
     "name": "stdout",
     "output_type": "stream",
     "text": [
      "2 NN Score: 74.68%\n"
     ]
    }
   ],
   "source": [
    "# KNN Model\n",
    "from sklearn.neighbors import KNeighborsClassifier\n",
    "knn = KNeighborsClassifier(n_neighbors = 2)  # n_neighbors means k\n",
    "knn.fit(x_train.T, y_train.T)\n",
    "prediction = knn.predict(x_test.T)\n",
    "\n",
    "print(\"{} NN Score: {:.2f}%\".format(2, knn.score(x_test.T, y_test.T)*100))"
   ]
  },
  {
   "cell_type": "markdown",
   "metadata": {},
   "source": [
    "* Algoritma KNN diklasifikan berdasarkan mayoritas dari kategori pada KNN. Tujuan dari algoritma ini adalah mengklasifikasikan obyek baru bedasarkan atribut dan training sample. Classifier tidak menggunakan model apapun untuk dicocokkan dan hanya berdasarkan pada memori\n",
    "* Algoritma metode KNN sangatlah sederhana, bekerja berdasarkan jarak terpendek dari query instance ke training sample untuk menentukan KNN-nya\n"
   ]
  },
  {
   "cell_type": "code",
   "execution_count": 28,
   "metadata": {},
   "outputs": [
    {
     "data": {
      "image/png": "[encoded data removed]",
      "text/plain": [
       "<Figure size 432x288 with 1 Axes>"
      ]
     },
     "metadata": {
      "needs_background": "light"
     },
     "output_type": "display_data"
    },
    {
     "name": "stdout",
     "output_type": "stream",
     "text": [
      "Maximum KNN Score is 80.52%\n"
     ]
    }
   ],
   "source": [
    "# try ro find best k value\n",
    "scoreList = []\n",
    "for i in range(1,20):\n",
    "    knn2 = KNeighborsClassifier(n_neighbors = i)  # n_neighbors means k\n",
    "    knn2.fit(x_train.T, y_train.T)\n",
    "    scoreList.append(knn2.score(x_test.T, y_test.T))\n",
    "    \n",
    "plt.plot(range(1,20), scoreList)\n",
    "plt.xticks(np.arange(1,20,1))\n",
    "plt.xlabel(\"K value\")\n",
    "plt.ylabel(\"Score\")\n",
    "plt.show()\n",
    "\n",
    "acc = max(scoreList)*100\n",
    "accuracies['KNN'] = acc\n",
    "print(\"Maximum KNN Score is {:.2f}%\".format(acc))"
   ]
  },
  {
   "cell_type": "markdown",
   "metadata": {},
   "source": [
    "**Support Vector Machine Algorithm**\n",
    "<br>\n",
    "<img src=\"data:image/png;base64,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\" width=\"500px\"/>"
   ]
  },
  {
   "cell_type": "markdown",
   "metadata": {},
   "source": [
    "* teknik SVM digunakan untuk menemukan fungsi pemisah(klasifier) yang optimal yang bisa memisahkan dua set data dari dua kelas yang berbeda. Penggunaan teknik machine learning tersebut, karena performansinya yang meyakinkan dalam memprediksi kelas suatu data baru.\n"
   ]
  },
  {
   "cell_type": "code",
   "execution_count": 29,
   "metadata": {},
   "outputs": [],
   "source": [
    "from sklearn.svm import SVC"
   ]
  },
  {
   "cell_type": "code",
   "execution_count": 30,
   "metadata": {},
   "outputs": [
    {
     "name": "stdout",
     "output_type": "stream",
     "text": [
      "Test Accuracy of SVM Algorithm: 81.17%\n"
     ]
    },
    {
     "name": "stderr",
     "output_type": "stream",
     "text": [
      "C:\\ProgramData\\Anaconda3\\lib\\site-packages\\sklearn\\svm\\base.py:196: FutureWarning: The default value of gamma will change from 'auto' to 'scale' in version 0.22 to account better for unscaled features. Set gamma explicitly to 'auto' or 'scale' to avoid this warning.\n",
      "  \"avoid this warning.\", FutureWarning)\n"
     ]
    }
   ],
   "source": [
    "svm = SVC(random_state = 1)\n",
    "svm.fit(x_train.T, y_train.T)\n",
    "\n",
    "acc = svm.score(x_test.T,y_test.T)*100\n",
    "accuracies['SVM'] = acc\n",
    "print(\"Test Accuracy of SVM Algorithm: {:.2f}%\".format(acc))"
   ]
  },
  {
   "cell_type": "markdown",
   "metadata": {},
   "source": [
    "**Naive Bayes Algorithm**\n",
    "<br>\n",
    "<img src=\"https://s3.ap-south-1.amazonaws.com/techleer/204.png\" width=\"500px\"/>"
   ]
  },
  {
   "cell_type": "markdown",
   "metadata": {},
   "source": [
    "* asumsi yg sangat kuat (naïf) akan independensi dari masing-masing kondisi / kejadian.\n",
    "* Naive Bayes Classifier bekerja sangat baik dibanding dengan model classifier lainnya\n",
    "* Keuntungan penggunan adalah bahwa metoda ini hanya membutuhkan jumlah data pelatihan (training data) yang kecil untuk menentukan estimasi parameter yg diperlukan dalam proses pengklasifikasian"
   ]
  },
  {
   "cell_type": "code",
   "execution_count": 31,
   "metadata": {},
   "outputs": [
    {
     "name": "stdout",
     "output_type": "stream",
     "text": [
      "Accuracy of Naive Bayes: 79.22%\n"
     ]
    }
   ],
   "source": [
    "from sklearn.naive_bayes import GaussianNB\n",
    "nb = GaussianNB()\n",
    "nb.fit(x_train.T, y_train.T)\n",
    "\n",
    "acc = nb.score(x_test.T,y_test.T)*100\n",
    "accuracies['Naive Bayes'] = acc\n",
    "print(\"Accuracy of Naive Bayes: {:.2f}%\".format(acc))"
   ]
  },
  {
   "cell_type": "markdown",
   "metadata": {},
   "source": [
    "** Decision Tree Algoritm**\n",
    "<br>\n",
    "<img src=\"http://dataaspirant.com/wp-content/uploads/2017/01/B03905_05_01-compressor.png\" width=\"500px\"/>"
   ]
  },
  {
   "cell_type": "markdown",
   "metadata": {},
   "source": [
    "* model prediksi menggunakan struktur pohon atau struktur berhirarki\n",
    "* menemukan hubungan tersembunyi antara sejumlah calon variabel input dengan sebuah variabel target. Decision tree memadukan antara eksplorasi data dan pemodelan, sehingga sangat bagus sebagai langkah awal dalam proses pemodelan bahkan ketika dijadikan sebagai model akhir dari beberapa teknik lain."
   ]
  },
  {
   "cell_type": "code",
   "execution_count": 32,
   "metadata": {},
   "outputs": [
    {
     "name": "stdout",
     "output_type": "stream",
     "text": [
      "Decision Tree Test Accuracy 76.62%\n"
     ]
    }
   ],
   "source": [
    "from sklearn.tree import DecisionTreeClassifier\n",
    "dtc = DecisionTreeClassifier()\n",
    "dtc.fit(x_train.T, y_train.T)\n",
    "\n",
    "acc = dtc.score(x_test.T, y_test.T)*100\n",
    "accuracies['Decision Tree'] = acc\n",
    "print(\"Decision Tree Test Accuracy {:.2f}%\".format(acc))"
   ]
  },
  {
   "cell_type": "code",
   "execution_count": 33,
   "metadata": {},
   "outputs": [
    {
     "name": "stdout",
     "output_type": "stream",
     "text": [
      "Random Forest Algorithm Accuracy Score : 81.82%\n"
     ]
    }
   ],
   "source": [
    "# Random Forest Classification\n",
    "from sklearn.ensemble import RandomForestClassifier\n",
    "rf = RandomForestClassifier(n_estimators = 1000, random_state = 1)\n",
    "rf.fit(x_train.T, y_train.T)\n",
    "\n",
    "acc = rf.score(x_test.T,y_test.T)*100\n",
    "accuracies['Random Forest'] = acc\n",
    "print(\"Random Forest Algorithm Accuracy Score : {:.2f}%\".format(acc))"
   ]
  },
  {
   "cell_type": "code",
   "execution_count": 34,
   "metadata": {},
   "outputs": [
    {
     "data": {
      "image/png": "[encoded data removed]",
      "text/plain": [
       "<Figure size 1152x360 with 1 Axes>"
      ]
     },
     "metadata": {},
     "output_type": "display_data"
    }
   ],
   "source": [
    "colors = [\"red\", \"green\", \"orange\", \"pink\",\"#CFC60E\",\"#0FBBAE\"]\n",
    "\n",
    "sns.set_style(\"whitegrid\")\n",
    "plt.figure(figsize=(16,5))\n",
    "plt.yticks(np.arange(0,100,10))\n",
    "plt.ylabel(\"Accuracy %\")\n",
    "plt.xlabel(\"Algorithms\")\n",
    "sns.barplot(x=list(accuracies.keys()), y=list(accuracies.values()), palette=colors)\n",
    "plt.show()"
   ]
  },
  {
   "cell_type": "markdown",
   "metadata": {},
   "source": [
    "* Nilai  yang di  dapatkan dari beberapa uji dengan menggunakan logistic, knn, svm, naive bayes, decision tree, dan random forest mendapatkan hasil akurasi diatas 50 %, Bisa dikatakan rata - ratanya sekitar 80%. \n",
    "* Dari 6 iterasi yang digunakan, tingkat akurasinya hampir sama sekitar nilai 80% \n",
    "* Nilai akurasi tertinggi pada random forest sebesar 81.82%\n",
    "* Nilai terendah pada 76.62%\n"
   ]
  }
 ],
 "metadata": {
  "kernelspec": {
   "display_name": "Python 3",
   "language": "python",
   "name": "python3"
  },
  "language_info": {
   "codemirror_mode": {
    "name": "ipython",
    "version": 3
   },
   "file_extension": ".py",
   "mimetype": "text/x-python",
   "name": "python",
   "nbconvert_exporter": "python",
   "pygments_lexer": "ipython3",
   "version": "3.7.3"
  }
 },
 "nbformat": 4,
 "nbformat_minor": 2
}
